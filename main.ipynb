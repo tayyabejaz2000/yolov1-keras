{
 "cells": [
  {
   "cell_type": "code",
   "execution_count": 1,
   "metadata": {},
   "outputs": [],
   "source": [
    "import os\n",
    "\n",
    "from tensorflow.keras.callbacks import ModelCheckpoint\n",
    "from tensorflow.keras.optimizers import Adam\n",
    "\n",
    "from read_data import BatchedGenerator\n",
    "from yolo import loss, model\n"
   ]
  },
  {
   "cell_type": "code",
   "execution_count": 2,
   "metadata": {},
   "outputs": [],
   "source": [
    "model_checkpoint = ModelCheckpoint(\n",
    "    'model.h5',\n",
    "    save_weights_only=True\n",
    ")\n"
   ]
  },
  {
   "cell_type": "code",
   "execution_count": 3,
   "metadata": {},
   "outputs": [],
   "source": [
    "network = model.GetModel((448, 448, 3))\n",
    "\n",
    "network.compile(\n",
    "    optimizer=Adam(learning_rate=1e-4),\n",
    "    loss=loss.YOLOLoss()\n",
    ")\n",
    "\n",
    "if 'model.h5' in os.listdir(os.getcwd()):\n",
    "    network.load_weights('model.h5')\n"
   ]
  },
  {
   "cell_type": "code",
   "execution_count": 4,
   "metadata": {},
   "outputs": [
    {
     "name": "stdout",
     "output_type": "stream",
     "text": [
      "Epoch 1/2\n",
      "16/16 [==============================] - 354s 22s/step - loss: 159.0438\n",
      "Epoch 2/2\n",
      "16/16 [==============================] - 341s 21s/step - loss: 120.9070\n",
      "Epoch 1/2\n",
      " 1/16 [>.............................] - ETA: 5:26 - loss: 97.5598"
     ]
    }
   ],
   "source": [
    "for batch_x, batch_y in BatchedGenerator(batch_size=512):\n",
    "    network.fit(\n",
    "        batch_x,\n",
    "        batch_y,\n",
    "        epochs=2,\n",
    "        batch_size=32,\n",
    "        callbacks=[model_checkpoint]\n",
    "    )\n"
   ]
  }
 ],
 "metadata": {
  "interpreter": {
   "hash": "13eb0af71620a846e484681143862ad0a4deab6cadfc353264e5c14897c11035"
  },
  "kernelspec": {
   "display_name": "Python 3.9.9 64-bit",
   "language": "python",
   "name": "python3"
  },
  "language_info": {
   "codemirror_mode": {
    "name": "ipython",
    "version": 3
   },
   "file_extension": ".py",
   "mimetype": "text/x-python",
   "name": "python",
   "nbconvert_exporter": "python",
   "pygments_lexer": "ipython3",
   "version": "3.9.9"
  },
  "orig_nbformat": 4
 },
 "nbformat": 4,
 "nbformat_minor": 2
}
